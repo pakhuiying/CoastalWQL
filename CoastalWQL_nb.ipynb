{
 "cells": [
  {
   "cell_type": "code",
   "execution_count": null,
   "metadata": {},
   "outputs": [],
   "source": [
    "import importlib\n",
    "import preprocessing\n",
    "importlib.reload(preprocessing)\n",
    "from preprocessing import *\n",
    "# from tensorflow.keras.models import load_model"
   ]
  },
  {
   "cell_type": "markdown",
   "metadata": {},
   "source": [
    "# CoastalWQL\n",
    "This is the python notebook for the workflow process as follows:"
   ]
  },
  {
   "cell_type": "code",
   "execution_count": null,
   "metadata": {},
   "outputs": [],
   "source": [
    "%matplotlib inline\n",
    "from IPython.display import Image\n",
    "Image('workflow.jpg')"
   ]
  },
  {
   "cell_type": "markdown",
   "metadata": {},
   "source": [
    "### Indicate the directory for storing processed images"
   ]
  },
  {
   "cell_type": "markdown",
   "metadata": {},
   "source": [
    "## Inputs"
   ]
  },
  {
   "cell_type": "markdown",
   "metadata": {},
   "source": [
    "#### Required inputs"
   ]
  },
  {
   "cell_type": "code",
   "execution_count": null,
   "metadata": {},
   "outputs": [],
   "source": [
    "image_fp = r\"C:\\Users\\PAKHUIYING\\Documents\\image_processing\\13_01_2022\\16-23-53RES1280_EXP0120_GAN0030_BIT08_2EXP0001_GAN0010_RES1280_BIT08\"\n",
    "spectrometer_fp = r\"C:\\Users\\PAKHUIYING\\Documents\\image_processing\\13_01_2022\\01_13_2022\"\n",
    "fp_store = r\"C:\\Users\\PAKHUIYING\\OneDrive - Nanyang Technological University\\NTU\\image_processing\\F3_processed_images\\2022_01_13_2\" #directory to store processed files\n",
    "prefix = \"2022_01_13_2_DNN\"\n",
    "height = 58 #in meters\n",
    "gps_index_txt = r\"C:\\Users\\PAKHUIYING\\OneDrive - Nanyang Technological University\\NTU\\image_processing\\F3_processed_images\\2022_01_13_2\\gps_index_2022_01_13_16-23-53.txt\"\n",
    "slider = 1400 #in milliseconds (time delay correction)\n",
    "mask_checkbox = True\n",
    "classify_checkbox = False\n",
    "noise_checkbox = True\n",
    "sunglint_checkbox = False\n",
    "radiometric_checkbox = True\n",
    "corrected_indices = None\n",
    "\n",
    "tss_lat = tss_lon = tss_measurements = None\n",
    "\n",
    "corrected_fp = r\"C:\\Users\\PAKHUIYING\\OneDrive - Nanyang Technological University\\NTU\\image_processing\\F3_processed_images\\2022_01_13_2\\corrected_indices.json\" #corrected image indices (optional)\n",
    "corrected_indices = None\n",
    "line_start = 0\n",
    "line_stop = 1\n",
    "r,g,b = 38,23,15\n",
    "\n",
    "with open(gps_index_txt, \"r\") as f:\n",
    "    gps_indices = f.readlines()\n",
    "gps_indices = [int(i.replace('\\n','')) for i in gps_indices]\n",
    "gps_indices.sort()\n",
    "\n",
    "#------optional (can comment out)--------\n",
    "with open(corrected_fp, \"r\") as read_file:\n",
    "    corrected_indices = json.load(read_file)\n",
    "corrected_indices = [(i['start'],i['stop']) for i in corrected_indices]\n"
   ]
  },
  {
   "cell_type": "markdown",
   "metadata": {},
   "source": [
    "#### Sun glint correction inputs (optional)"
   ]
  },
  {
   "cell_type": "code",
   "execution_count": null,
   "metadata": {},
   "outputs": [],
   "source": [
    "sunglint_json_fp = None\n",
    "reflectance_glint = None\n",
    "\n",
    "sunglint_json_fp = r\"C:\\Users\\PAKHUIYING\\OneDrive - Nanyang Technological University\\NTU\\image_processing\\F3_processed_images\\2021_11_10_2\\sunglint_correction_2021_11_10_11-34-17.txt\"\n",
    "with open(sunglint_json_fp,\"r\") as cf:\n",
    "    bbox = json.load(cf)"
   ]
  },
  {
   "cell_type": "markdown",
   "metadata": {},
   "source": [
    "#### WQL inputs (optional)"
   ]
  },
  {
   "cell_type": "code",
   "execution_count": null,
   "metadata": {},
   "outputs": [],
   "source": [
    "wql_csv = r\"inputs\\wql.csv\"\n",
    "tss_df = pd.read_csv(wql_csv,engine='python')\n",
    "tss_lat = tss_df.iloc[:,4].tolist()\n",
    "tss_lon = tss_df.iloc[:,5].tolist()\n",
    "tss_measurements = tss_df.iloc[:,-2].tolist()\n",
    "tss_df.head()"
   ]
  },
  {
   "cell_type": "markdown",
   "metadata": {},
   "source": [
    "#### Image segmentation inputs (optional)"
   ]
  },
  {
   "cell_type": "code",
   "execution_count": null,
   "metadata": {},
   "outputs": [],
   "source": [
    "#xgb_seg_fp = r\"C:\\Users\\PAKHUIYING\\Documents\\Deep_Learning\\image_segmentation\\saved_images\\XGBoost_py39\\xgb_segmentation.json\" #for python =3.9\n",
    "xgb_seg_fp = r\"Models\\image_segmentation\\xgb_segmentation.json\" #for python=3.6\n",
    "xgb_seg_model = load_xgb_segmentation_model(xgb_seg_fp)"
   ]
  },
  {
   "cell_type": "markdown",
   "metadata": {},
   "source": [
    "#### Prediction inputs (optional)"
   ]
  },
  {
   "cell_type": "code",
   "execution_count": null,
   "metadata": {},
   "outputs": [],
   "source": [
    "predict_checkbox = True\n",
    "# model_fp = r\"Models\\turbidity_prediction\\XGB_corrected_trimmed100_1.json\" #XGBoost model\n",
    "model_fp = r\"Models\\turbidity_prediction\\saved_models\\DNN_corrected_trimmed100_1\" #DNN model\n",
    "model_type = \"DNN\" #If XGBoost model is used, change to \"XGBoost\"\n",
    "covariates_index_list = \"4:15,33:38,43:46,53:54\" #indices of covariates\n",
    "covariates_index_list = covariates_str_to_list(covariates_index_list)\n",
    "downsample_slider = 40"
   ]
  },
  {
   "cell_type": "code",
   "execution_count": null,
   "metadata": {},
   "outputs": [],
   "source": [
    "gps_df = import_gps(image_fp)\n",
    "unique_gps_df = get_unique_df(gps_df)\n",
    "test_gps_index = gps_indices\n",
    "indexes_list = gps_to_image_indices(unique_gps_df,image_fp,test_gps_index,slider)\n",
    "print(\"Original indices: {}\".format(indexes_list))\n",
    "if corrected_indices is not None:\n",
    "    indexes_list = corrected_indices\n",
    "print(\"New indices: {}\".format(indexes_list))\n",
    "reverse_boolean_list = rev_boolean_list(unique_gps_df,test_gps_index)"
   ]
  },
  {
   "cell_type": "markdown",
   "metadata": {},
   "source": [
    "## Image Alignment (optional)"
   ]
  },
  {
   "cell_type": "code",
   "execution_count": null,
   "metadata": {},
   "outputs": [],
   "source": [
    "extended_rgb = ExtendedRGB(image_fp,gps_indices,height, unique_gps_df)\n",
    "general_dict,datetime_list = extended_rgb.main()"
   ]
  },
  {
   "cell_type": "code",
   "execution_count": null,
   "metadata": {},
   "outputs": [],
   "source": [
    "time_corrections = list(range(0,2000,200))\n",
    "fig,axes = plt.subplots(2,ceil(len(time_corrections)/2),figsize=(20,10))\n",
    "\n",
    "for i,(t,ax) in enumerate(zip(time_corrections,axes.flatten())):\n",
    "    s,ms = divmod(t,1000)\n",
    "    live_correction = LiveCorrection(general_dict,datetime_list,time_delay=t,scale=20)\n",
    "    img_resize_list, correction_bytes_list,bckgrnd_attr,bbox_list = live_correction.main()\n",
    "    corr_coeff_list,_ = calculate_correlation_overlap(img_resize_list)\n",
    "    corr_coeff_avg = np.nanmean(corr_coeff_list)\n",
    "    for arr in img_resize_list:\n",
    "        ax.imshow(arr)\n",
    "    ax.set_title('Time delay (s:{} ms:{})\\nMean correlation: {:.4f}'.format(s,ms,corr_coeff_avg),fontdict={'fontsize':18})\n",
    "    ax.set_axis_off()\n",
    "\n",
    "# plt.rc('axes',titlesize = 15)\n",
    "plt.tight_layout()\n",
    "plt.show()"
   ]
  },
  {
   "cell_type": "code",
   "execution_count": null,
   "metadata": {},
   "outputs": [],
   "source": [
    "# select the most appropriate time delay correction\n",
    "slider = 1200\n",
    "#select number of lines to process\n",
    "line_start = 0\n",
    "line_stop = len(test_gps_index)//2\n",
    "print(f\"line start: {line_start}, line stop: {line_stop}\")"
   ]
  },
  {
   "cell_type": "markdown",
   "metadata": {},
   "source": [
    "# Process images"
   ]
  },
  {
   "cell_type": "markdown",
   "metadata": {},
   "source": [
    "### Save user-options"
   ]
  },
  {
   "cell_type": "code",
   "execution_count": null,
   "metadata": {},
   "outputs": [],
   "source": [
    "config_file = {'-PROCESSED_IMAGES-':fp_store,'-PREFIX-':prefix,'-IMAGE_FOLDER_FILEPATH-':image_fp,\\\n",
    "                '-SPECTRO_FILEPATH-':spectrometer_fp,\\\n",
    "                '-HEIGHT-':height,'-GPS_INDEX_TXT-':gps_index_txt,'-SLIDER-':slider,\\\n",
    "                '-LINE_START-':line_start,'-LINE_END-':line_stop,'rgb_bands':[r,g,b],\\\n",
    "                '-MASK_CHECKBOX-':mask_checkbox,'-CLASSIFY_CHECKBOX-':classify_checkbox,\\\n",
    "                '-RADIOMETRIC_CHECKBOX-':radiometric_checkbox,'-NOISE_CHECKBOX-':noise_checkbox,\\\n",
    "                '-SUNGLINT_CHECKBOX-':sunglint_checkbox,'-PREDICT_CHECKBOX-':predict_checkbox,\\\n",
    "                'corrected_indices':corrected_indices}\n",
    "\n",
    "if config_file['-PREDICT_CHECKBOX-'] == True:\n",
    "    prediction_parameters = {'-MODEL_PREDICTORS-':covariates_index_list,'-DOWNSAMPLE_SLIDER-':downsample_slider,'-MODEL_FILEPATH-':model_fp,'model_type':model_type}\n",
    "    for k,v in prediction_parameters.items():\n",
    "        config_file[k] = v\n",
    "\n",
    "with open(join(fp_store,'config_file_{}.txt'.format(config_file['-PREFIX-'])),'w') as cf:\n",
    "    json.dump(config_file,cf)"
   ]
  },
  {
   "cell_type": "markdown",
   "metadata": {},
   "source": [
    "#### sun glint correction"
   ]
  },
  {
   "cell_type": "code",
   "execution_count": null,
   "metadata": {},
   "outputs": [],
   "source": [
    "try:\n",
    "    line_glint = bbox['glint']['line']\n",
    "    start_i,end_i = indexes_list[line_glint]\n",
    "    test_stitch_class = StitchHyperspectral(fp_store,config_file['-PREFIX-'],config_file['-IMAGE_FOLDER_FILEPATH-'],config_file['-SPECTRO_FILEPATH-'],\\\n",
    "        int(config_file['-HEIGHT-']),line_glint,start_i,end_i,\\\n",
    "        test_gps_index, unique_gps_df,reverse=reverse_boolean_list[line_glint])\n",
    "\n",
    "    reflectance_glint = test_stitch_class.get_stitched_reflectance() #radiometrically corrected reflectance only for the image line where glint bbox is drawn on\n",
    "except Exception as E:\n",
    "    sunglint_json_fp = None\n",
    "    reflectance_glint = None"
   ]
  },
  {
   "cell_type": "markdown",
   "metadata": {},
   "source": [
    "# For python >= 3.7\n",
    "\n",
    "If there are no incompatibilities between `tensorflow` and `gdal`"
   ]
  },
  {
   "cell_type": "code",
   "execution_count": null,
   "metadata": {},
   "outputs": [],
   "source": [
    "for line_number in range(line_start, line_stop+1):\n",
    "    start_i,end_i = indexes_list[line_number]\n",
    "    test_stitch_class = StitchHyperspectral(fp_store,config_file['-PREFIX-'],config_file['-IMAGE_FOLDER_FILEPATH-'],config_file['-SPECTRO_FILEPATH-'],\\\n",
    "                        int(config_file['-HEIGHT-']),line_number,start_i,end_i,\\\n",
    "                        test_gps_index, unique_gps_df, destriping = config_file['-NOISE_CHECKBOX-'],\\\n",
    "                        reverse=reverse_boolean_list[line_number])\n",
    "    test_stitch_class.view_pseudo_colour(r,g,b) #outputs rgb\n",
    "    #-----optional (can comment out)-------------\n",
    "    ##-----masking--------------\n",
    "    if config_file['-MASK_CHECKBOX-'] is True:\n",
    "        print(\"Performing segmentation...\")\n",
    "        mask = test_stitch_class.get_mask(xgb_seg_model,type=\"XGBoost\")\n",
    "    else:\n",
    "        print(\"Segmentation not conducted...\")\n",
    "        mask = None\n",
    "    ##-----sunglint correction----\n",
    "    if config_file['-SUNGLINT_CHECKBOX-'] is True and sunglint_json_fp is not None and reflectance_glint is not None:\n",
    "        sgc = SunglintCorrection(test_stitch_class,sunglint_json_fp,reflectance_glint)\n",
    "        sgc.sunglint_correction_rgb()\n",
    "        sgc_reflectance = sgc.sunglint_correction_reflectance()\n",
    "        reflectance = None\n",
    "        print(\"Performing sunglint correction on hyperspectral reflectances...\")\n",
    "    else:\n",
    "        print(\"No sunglint correction...\")\n",
    "        config_file['-SUNGLINT_CHECKBOX-'] = False\n",
    "        sgc_reflectance = None\n",
    "         ##-----radiometric correction--------------\n",
    "        if config_file['-RADIOMETRIC_CHECKBOX-'] is True:\n",
    "            reflectance = test_stitch_class.get_stitched_reflectance()\n",
    "            print(\"Getting radiometrically corrected reflectances...\")\n",
    "        else:\n",
    "            reflectance = test_stitch_class.get_stitched_uncorrected_reflectance()\n",
    "            print(\"Getting uncorrected reflectances...\")\n",
    "    ##---------extraction of spectral information\n",
    "    if tss_lat is not None:\n",
    "        #extraction of spectral information\n",
    "        test_stitch_class.get_reflectance_from_GPS(tss_lat,tss_lon,tss_measurements,\\\n",
    "            radius=2, mask = mask,\\\n",
    "            glint_corrected_reflectance=sgc_reflectance,reflectance = reflectance)\n",
    "    #-----prediction-------------\n",
    "    if config_file['-PREDICT_CHECKBOX-'] == True:\n",
    "        try: #4:54, #4:15,33:38,43:46,53:54\n",
    "            test_stitch_class.get_predicted_image(model=config_file['-MODEL_FILEPATH-'],\\\n",
    "                covariates_index_list = config_file['-MODEL_PREDICTORS-'],\\\n",
    "                model_type=config_file['model_type'],\\\n",
    "                # radiometric_correction=config_file['-RADIOMETRIC_CHECKBOX-'],\\\n",
    "                scaling_factor=int(config_file['-DOWNSAMPLE_SLIDER-']),\\\n",
    "                glint_corrected_reflectance=sgc_reflectance,reflectance=reflectance)\n",
    "            print(\"Generating prediction map...\")\n",
    "        except Exception as E:\n",
    "            print(\"No prediction...\")\n",
    "            pass\n",
    "    #------geotransform--------\n",
    "    gti = GeotransformImage(test_stitch_class,\\\n",
    "        mask = mask, classify = config_file['-CLASSIFY_CHECKBOX-'],\\\n",
    "        transform_predicted_image = config_file['-PREDICT_CHECKBOX-'],\\\n",
    "        sunglint_correction=config_file['-SUNGLINT_CHECKBOX-'])\n",
    "    gti.geotransform_image()\n",
    "\n",
    "if tss_lat is not None:\n",
    "    test_stitch_class.preprocess_spectral_info(export_to_array=False)"
   ]
  },
  {
   "cell_type": "markdown",
   "metadata": {},
   "source": [
    "# For python = 3.6\n",
    "\n",
    "### Stitching etc\n",
    "Use of venv *python=36, tf=2.4.1* (virtual environment that is compatible with tensorflow but with no `gdal`)"
   ]
  },
  {
   "cell_type": "code",
   "execution_count": null,
   "metadata": {},
   "outputs": [],
   "source": [
    "for line_number in range(line_start, line_stop):\n",
    "    start_i,end_i = indexes_list[line_number]\n",
    "    test_stitch_class = StitchHyperspectral(fp_store,config_file['-PREFIX-'],config_file['-IMAGE_FOLDER_FILEPATH-'],config_file['-SPECTRO_FILEPATH-'],\\\n",
    "                        int(config_file['-HEIGHT-']),line_number,start_i,end_i,\\\n",
    "                        test_gps_index, unique_gps_df, destriping = config_file['-NOISE_CHECKBOX-'],\\\n",
    "                        reverse=reverse_boolean_list[line_number])\n",
    "    test_stitch_class.view_pseudo_colour(r,g,b) #outputs rgb\n",
    "    #-----optional (can comment out)-------------\n",
    "    ##-----masking--------------\n",
    "    if config_file['-MASK_CHECKBOX-'] is True:\n",
    "        print(\"Performing segmentation...\")\n",
    "        mask = test_stitch_class.get_mask(xgb_seg_model,type=\"XGBoost\")\n",
    "    else:\n",
    "        print(\"Segmentation not conducted...\")\n",
    "        mask = None\n",
    "    ##-----sunglint correction----\n",
    "    if config_file['-SUNGLINT_CHECKBOX-'] is True and sunglint_json_fp is not None and reflectance_glint is not None:\n",
    "        sgc = SunglintCorrection(test_stitch_class,sunglint_json_fp,reflectance_glint)\n",
    "        sgc.sunglint_correction_rgb()\n",
    "        sgc_reflectance = sgc.sunglint_correction_reflectance()\n",
    "        reflectance = None\n",
    "        print(\"Performing sunglint correction on hyperspectral reflectances...\")\n",
    "    else:\n",
    "        print(\"No sunglint correction...\")\n",
    "        config_file['-SUNGLINT_CHECKBOX-'] = False\n",
    "        sgc_reflectance = None\n",
    "         ##-----radiometric correction--------------\n",
    "        if config_file['-RADIOMETRIC_CHECKBOX-'] is True:\n",
    "            reflectance = test_stitch_class.get_stitched_reflectance()\n",
    "            print(\"Getting radiometrically corrected reflectances...\")\n",
    "        else:\n",
    "            reflectance = test_stitch_class.get_stitched_uncorrected_reflectance()\n",
    "            print(\"Getting uncorrected reflectances...\")\n",
    "    ##---------extraction of spectral information\n",
    "    if tss_lat is not None:\n",
    "        #extraction of spectral information\n",
    "        test_stitch_class.get_reflectance_from_GPS(tss_lat,tss_lon,tss_measurements,\\\n",
    "            radius=2, mask = mask,\\\n",
    "            glint_corrected_reflectance=sgc_reflectance,reflectance = reflectance)\n",
    "    #-----prediction-------------\n",
    "    if config_file['-PREDICT_CHECKBOX-'] == True:\n",
    "        try: #4:54, #4:15,33:38,43:46,53:54\n",
    "            test_stitch_class.get_predicted_image(model=config_file['-MODEL_FILEPATH-'],\\\n",
    "                covariates_index_list = config_file['-MODEL_PREDICTORS-'],\\\n",
    "                model_type=config_file['model_type'],\\\n",
    "                # radiometric_correction=config_file['-RADIOMETRIC_CHECKBOX-'],\\\n",
    "                scaling_factor=int(config_file['-DOWNSAMPLE_SLIDER-']),\\\n",
    "                glint_corrected_reflectance=sgc_reflectance,reflectance=reflectance)\n",
    "            print(\"Generating prediction map...\")\n",
    "        except Exception as E:\n",
    "            print(\"No prediction...\")\n",
    "            pass"
   ]
  },
  {
   "cell_type": "markdown",
   "metadata": {},
   "source": [
    "### Perform masking and geotransform\n",
    "use of venv *python=3.6* with `gdal`"
   ]
  },
  {
   "cell_type": "code",
   "execution_count": null,
   "metadata": {},
   "outputs": [],
   "source": [
    "for line_number in range(line_start, line_stop):\n",
    "    start_i,end_i = indexes_list[line_number]\n",
    "    test_stitch_class = StitchHyperspectral(fp_store,config_file['-PREFIX-'],config_file['-IMAGE_FOLDER_FILEPATH-'],config_file['-SPECTRO_FILEPATH-'],\\\n",
    "                        int(config_file['-HEIGHT-']),line_number,start_i,end_i,\\\n",
    "                        test_gps_index, unique_gps_df, destriping = config_file['-NOISE_CHECKBOX-'],\\\n",
    "                        reverse=reverse_boolean_list[line_number])\n",
    "    \n",
    "    ##-----masking--------------\n",
    "    if config_file['-MASK_CHECKBOX-'] is True:\n",
    "        print(\"Performing segmentation...\")\n",
    "        mask = test_stitch_class.get_mask(xgb_seg_model,type=\"XGBoost\")\n",
    "    else:\n",
    "        print(\"Segmentation not conducted...\")\n",
    "        mask = None\n",
    "    #------geotransform--------\n",
    "    gti = GeotransformImage(test_stitch_class,\\\n",
    "        mask = mask, classify = config_file['-CLASSIFY_CHECKBOX-'],\\\n",
    "        transform_predicted_image = config_file['-PREDICT_CHECKBOX-'],\\\n",
    "        sunglint_correction=config_file['-SUNGLINT_CHECKBOX-'])\n",
    "    gti.geotransform_image()\n",
    "\n",
    "if tss_lat is not None:\n",
    "    test_stitch_class.preprocess_spectral_info(export_to_array=False)"
   ]
  },
  {
   "cell_type": "markdown",
   "metadata": {},
   "source": [
    "## Visualisation"
   ]
  },
  {
   "cell_type": "markdown",
   "metadata": {},
   "source": [
    "#### view false composite images"
   ]
  },
  {
   "cell_type": "code",
   "execution_count": null,
   "metadata": {},
   "outputs": [],
   "source": [
    "vc = ViewCanvas(config_file)\n",
    "img_resize_list,bytes_list,df,wql_legend = vc.rgb_canvas()"
   ]
  },
  {
   "cell_type": "code",
   "execution_count": null,
   "metadata": {},
   "outputs": [],
   "source": [
    "plt.figure()\n",
    "for i in img_resize_list:\n",
    "    plt.imshow(i)\n",
    "plt.plot(df['x_general'],i.shape[1]-df['y_general'],'k.')\n",
    "plt.show()"
   ]
  },
  {
   "cell_type": "markdown",
   "metadata": {},
   "source": [
    "#### view predicted images (if applicable)"
   ]
  },
  {
   "cell_type": "code",
   "execution_count": null,
   "metadata": {},
   "outputs": [],
   "source": [
    "vc = ViewCanvas(config_file)\n",
    "img_resize_list,bytes_list,df,wql_legend = vc.prediction_canvas()\n",
    "plt.figure()\n",
    "for i in img_resize_list:\n",
    "    plt.imshow(i)\n",
    "plt.show()"
   ]
  },
  {
   "cell_type": "markdown",
   "metadata": {},
   "source": [
    "### Plot model performance\n",
    "Only if spectral information from wql points have been extracted\n",
    "\n",
    "Requires: \n",
    "- wql inputs\n",
    "- prediction"
   ]
  },
  {
   "cell_type": "code",
   "execution_count": null,
   "metadata": {},
   "outputs": [],
   "source": [
    "vc = ViewCanvas(config_file)\n",
    "fig = vc.plot_model_performance()\n",
    "fig"
   ]
  }
 ],
 "metadata": {
  "kernelspec": {
   "display_name": "Python 3.6.13 ('GUI_test_python36')",
   "language": "python",
   "name": "python3"
  },
  "language_info": {
   "codemirror_mode": {
    "name": "ipython",
    "version": 3
   },
   "file_extension": ".py",
   "mimetype": "text/x-python",
   "name": "python",
   "nbconvert_exporter": "python",
   "pygments_lexer": "ipython3",
   "version": "3.6.13"
  },
  "orig_nbformat": 4,
  "vscode": {
   "interpreter": {
    "hash": "c1f4261db12fd07673503e5fd446ed7a8878d5c15460650a698d1b8f6c66269b"
   }
  }
 },
 "nbformat": 4,
 "nbformat_minor": 2
}
